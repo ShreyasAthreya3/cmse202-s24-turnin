{
 "cells": [
  {
   "cell_type": "markdown",
   "metadata": {
    "slideshow": {
     "slide_type": "-"
    }
   },
   "source": [
    "# In-class Assignment: Installing Python Packages and Plotting with Maps in Python\n",
    "# Day 4 \n",
    "# CMSE 202\n",
    "\n",
    "### <p style=\"text-align: right;\"> &#9989; Shreyas Athreya</p>\n",
    "#### <p style=\"text-align: right;\"> &#9989; Raj, Noah, Sukaina, Amy</p>\n",
    "\n",
    "What if you wanted to make a map like the one below? How would you go about doing it using Python? Perhaps someone else already created a Python package that you could use!\n",
    "\n",
    "<img src=\"https://www.270towin.com/maps/p1PZz.png\" width=\"60%\">\n"
   ]
  },
  {
   "cell_type": "markdown",
   "metadata": {
    "slideshow": {
     "slide_type": "-"
    }
   },
   "source": [
    "### Agenda for today's class\n",
    "\n",
    "</p>\n",
    "\n",
    "1. [Review](#review)\n",
    "1. [Getting data from the web](#curl)\n",
    "1. [Practice with `pip`](#pip)\n",
    "1. [Visualizing data with maps](#maps)\n",
    "1. [Experimenting with generative AI](#generative)"
   ]
  },
  {
   "cell_type": "markdown",
   "metadata": {},
   "source": [
    "----\n",
    "## 1. Review\n",
    "\n",
    "We'll spend a bit of time going over anything that came up in the pre-class survey data."
   ]
  },
  {
   "cell_type": "markdown",
   "metadata": {},
   "source": [
    "----\n",
    "<a id=\"curl\"></a>\n",
    "## 2. Getting data from the web\n",
    "For this assignment we need to download a couple of data files.  Here are direct links to the files:\n",
    "\n",
    "`https://raw.githubusercontent.com/wrobstory/vincent/master/examples/data/US_Unemployment_Oct2012.csv`\n",
    "\n",
    "`https://raw.githubusercontent.com/python-visualization/folium/master/examples/data/us-states.json`\n",
    "\n",
    "Rather than navigating to them using your browser, downloading the file and then dragging it into the right location, let's use your command line skills! Use the `curl` terminal command we revisited in the pre-class assignment instead.\n",
    "\n",
    "***Hint***: Remember the trick we learned in a previous class period? You can actually run terminal commands from inside python. All you need to do is add the \"!\" to the beginning of your command. \n",
    "\n",
    "**&#9989; Do This:** As a refresher, try it out -- run the `ls -la` command by using the following python code:"
   ]
  },
  {
   "cell_type": "code",
   "execution_count": 3,
   "metadata": {
    "scrolled": true
   },
   "outputs": [
    {
     "name": "stderr",
     "output_type": "stream",
     "text": [
      "'ls' is not recognized as an internal or external command,\n",
      "operable program or batch file.\n"
     ]
    }
   ],
   "source": [
    "import os\n",
    "!ls -la"
   ]
  },
  {
   "cell_type": "markdown",
   "metadata": {},
   "source": [
    "**&#9989; Do This:** Now download the two data files we need for class using the `curl` command prefaced by the python terminal command (!). **Important**: you want to make sure that `curl` downloads and saves the file on to your computer, but by default it will just print the contents of the file to the screen. You should have figured out how to save it as a file in previous assignments, but don't hesitate to ask a group member if it's slipping your mind."
   ]
  },
  {
   "cell_type": "code",
   "execution_count": 5,
   "metadata": {},
   "outputs": [
    {
     "name": "stderr",
     "output_type": "stream",
     "text": [
      "  % Total    % Received % Xferd  Average Speed   Time    Time     Time  Current\n",
      "                                 Dload  Upload   Total   Spent    Left  Speed\n",
      "\n",
      "  0     0    0     0    0     0      0      0 --:--:-- --:--:-- --:--:--     0\n",
      "100   417  100   417    0     0  11418      0 --:--:-- --:--:-- --:--:-- 11914\n",
      "  % Total    % Received % Xferd  Average Speed   Time    Time     Time  Current\n",
      "                                 Dload  Upload   Total   Spent    Left  Speed\n",
      "\n",
      "  0     0    0     0    0     0      0      0 --:--:-- --:--:-- --:--:--     0\n",
      "100 87688  100 87688    0     0  2281k      0 --:--:-- --:--:-- --:--:-- 2378k\n"
     ]
    }
   ],
   "source": [
    "# Put your code here\n",
    "!curl -o US_Unemployment_Oct2012.csv https://raw.githubusercontent.com/wrobstory/vincent/master/examples/data/US_Unemployment_Oct2012.csv\n",
    "!curl -o us-states.json https://raw.githubusercontent.com/python-visualization/folium/master/examples/data/us-states.json\n"
   ]
  },
  {
   "cell_type": "markdown",
   "metadata": {},
   "source": [
    "**&#9989; Do This:** As a group inspect the two new files.  \n",
    "\n",
    "**Question 1:** What types of files are they? What type of data do they seem to contain?  Be prepared to share your answers with your instructors and/or the class."
   ]
  },
  {
   "cell_type": "markdown",
   "metadata": {},
   "source": [
    "<font size=+3>&#9998;</font> The first file is a csv and the second is a JSON type file. They contain data related to the statistics of the unemployed rate per state, and the other with the location and shape of each state."
   ]
  },
  {
   "cell_type": "markdown",
   "metadata": {},
   "source": [
    "**&#9989; Do This:** Figure out how to load the `US_Unemployment_Oct2012.csv` into python and display some of the data.  What libraries did you use?"
   ]
  },
  {
   "cell_type": "code",
   "execution_count": 6,
   "metadata": {},
   "outputs": [
    {
     "name": "stdout",
     "output_type": "stream",
     "text": [
      "  State  Unemployment\n",
      "0    AL           7.1\n",
      "1    AK           6.8\n",
      "2    AZ           8.1\n",
      "3    AR           7.2\n",
      "4    CA          10.1\n"
     ]
    }
   ],
   "source": [
    "### Used pandas library to display information\n",
    "import pandas as pd\n",
    "\n",
    "\n",
    "data = pd.read_csv('US_Unemployment_Oct2012.csv')\n",
    "\n",
    "\n",
    "print(data.head())\n"
   ]
  },
  {
   "cell_type": "markdown",
   "metadata": {},
   "source": [
    "----\n",
    "<a id=\"pip\"></a>\n",
    "## 3. Practice with `pip`\n",
    "\n",
    "Lets switch gears and talk about installing software.  Consider the following ```plotly``` package:\n",
    "\n",
    "\n",
    "[https://plot.ly/python/](https://plot.ly/python/)\n"
   ]
  },
  {
   "cell_type": "markdown",
   "metadata": {},
   "source": [
    "&#9989; **Question 2 :**  What does this package do?"
   ]
  },
  {
   "cell_type": "markdown",
   "metadata": {},
   "source": [
    "<font size=+3>&#9998;</font> Has source code for different types of high quality, interactive graphsand charts."
   ]
  },
  {
   "cell_type": "markdown",
   "metadata": {},
   "source": [
    "**&#9989; Do This:** Install the `plotly` package using pip and the python terminal operator (!) or inside your command line interface. You might run into issues as happens sometimes when install new packages. It might also take a bit of time for the package to install. If you run into issues, get help from your group mates to the instructors.\n",
    "\n",
    "<font color=\"red\">**Important note**</font>: Did plot install as you expected? If not, why not? After trying to install plotly, what version is on your computer?  Is it the latest version? What command could you use to check this? (hint: this command is included in the PCA)  If you don't have the latest version, how do you update it or install the specific version included on the \"[Getting Started](https://plotly.com/python/getting-started/)\" page?"
   ]
  },
  {
   "cell_type": "markdown",
   "metadata": {},
   "source": [
    "Used this !pip install plotly- command on terminal it says !pip is not recognized as the name of a cmdlet, function, script file, or operable program. Downloaded Python and tried on that terminal, didn't work either."
   ]
  },
  {
   "cell_type": "code",
   "execution_count": 7,
   "metadata": {},
   "outputs": [
    {
     "name": "stdout",
     "output_type": "stream",
     "text": [
      "Requirement already satisfied: plotly in c:\\programming\\lib\\site-packages (5.6.0)\n",
      "Requirement already satisfied: tenacity>=6.2.0 in c:\\programming\\lib\\site-packages (from plotly) (8.0.1)\n",
      "Requirement already satisfied: six in c:\\programming\\lib\\site-packages (from plotly) (1.16.0)\n"
     ]
    }
   ],
   "source": [
    "#Put your code here\n",
    "!pip install plotly \n"
   ]
  },
  {
   "cell_type": "markdown",
   "metadata": {},
   "source": [
    "**&#9989; Do This:** Read through the documentation for running `plotly` and try to get an example to successfully run in your notebook. Make sure to help your group mates to get it working! You might find this page particular useful to take a look at: https://plotly.com/python/getting-started/"
   ]
  },
  {
   "cell_type": "code",
   "execution_count": 9,
   "metadata": {},
   "outputs": [],
   "source": [
    "#Put your example code here\n",
    "import plotly.express as px\n",
    "fig = px.bar(x=[\"a\", \"b\", \"c\"], y=[1, 3, 2])\n",
    "fig.write_html('first_figure.html', auto_open=True)"
   ]
  },
  {
   "cell_type": "markdown",
   "metadata": {},
   "source": [
    "----\n",
    "<a id=\"maps\"></a>\n",
    "## 4. Visualizing data with maps\n",
    "\n",
    "Finding good ways to create map visualizations in Python can be tricky and there are quite a number of tools out there that can do it. This part of the assignment will provide you with an opportunity to find new packages and learn how to use them to accomplish this task. \n",
    "\n",
    "Getting used to learning how to use new packages is an important part of becoming a Python expert!\n",
    "\n",
    "**&#9989; Do This:** Debug the following example code. If you have to use any terminal commands to fix the bug make sure you include those here."
   ]
  },
  {
   "cell_type": "code",
   "execution_count": 10,
   "metadata": {},
   "outputs": [
    {
     "ename": "ModuleNotFoundError",
     "evalue": "No module named 'folium'",
     "output_type": "error",
     "traceback": [
      "\u001b[1;31m---------------------------------------------------------------------------\u001b[0m",
      "\u001b[1;31mModuleNotFoundError\u001b[0m                       Traceback (most recent call last)",
      "Input \u001b[1;32mIn [10]\u001b[0m, in \u001b[0;36m<cell line: 1>\u001b[1;34m()\u001b[0m\n\u001b[1;32m----> 1\u001b[0m \u001b[38;5;28;01mimport\u001b[39;00m \u001b[38;5;21;01mfolium\u001b[39;00m\n\u001b[0;32m      2\u001b[0m map_msu \u001b[38;5;241m=\u001b[39m folium\u001b[38;5;241m.\u001b[39mMap(location\u001b[38;5;241m=\u001b[39m[\u001b[38;5;241m42.7284006\u001b[39m,\u001b[38;5;241m-\u001b[39m\u001b[38;5;241m84.4804778\u001b[39m])\n\u001b[0;32m      3\u001b[0m folium\u001b[38;5;241m.\u001b[39mMarker([\u001b[38;5;241m42.7284006\u001b[39m,\u001b[38;5;241m-\u001b[39m\u001b[38;5;241m84.4804778\u001b[39m], popup\u001b[38;5;241m=\u001b[39m\u001b[38;5;124m'\u001b[39m\u001b[38;5;124mMSU\u001b[39m\u001b[38;5;124m'\u001b[39m)\u001b[38;5;241m.\u001b[39madd_to(map_msu)\n",
      "\u001b[1;31mModuleNotFoundError\u001b[0m: No module named 'folium'"
     ]
    }
   ],
   "source": [
    "import folium\n",
    "map_msu = folium.Map(location=[42.7284006,-84.4804778])\n",
    "folium.Marker([42.7284006,-84.4804778], popup='MSU').add_to(map_msu)\n",
    "map_msu\n",
    "### Works fine as long as folium package is installed"
   ]
  },
  {
   "cell_type": "markdown",
   "metadata": {},
   "source": [
    "&#9989; **Question 3:** What does the above example do?  "
   ]
  },
  {
   "cell_type": "markdown",
   "metadata": {},
   "source": [
    "<font size=+3>&#9998;</font> Generates a basic map with a marker "
   ]
  },
  {
   "cell_type": "markdown",
   "metadata": {},
   "source": [
    "&#9989; **Question 4:** Assuming we did everything up to this point correctly, what does the following code do? <font color=\"red\">*Warning*</font>: there may be a bug in the code!"
   ]
  },
  {
   "cell_type": "code",
   "execution_count": 11,
   "metadata": {},
   "outputs": [
    {
     "ename": "ModuleNotFoundError",
     "evalue": "No module named 'folium'",
     "output_type": "error",
     "traceback": [
      "\u001b[1;31m---------------------------------------------------------------------------\u001b[0m",
      "\u001b[1;31mModuleNotFoundError\u001b[0m                       Traceback (most recent call last)",
      "Input \u001b[1;32mIn [11]\u001b[0m, in \u001b[0;36m<cell line: 1>\u001b[1;34m()\u001b[0m\n\u001b[1;32m----> 1\u001b[0m \u001b[38;5;28;01mimport\u001b[39;00m \u001b[38;5;21;01mfolium\u001b[39;00m\n\u001b[0;32m      2\u001b[0m \u001b[38;5;28;01mimport\u001b[39;00m \u001b[38;5;21;01mpandas\u001b[39;00m \u001b[38;5;28;01mas\u001b[39;00m \u001b[38;5;21;01mpd\u001b[39;00m\n\u001b[0;32m      4\u001b[0m state_geo \u001b[38;5;241m=\u001b[39m \u001b[38;5;124mr\u001b[39m\u001b[38;5;124m'\u001b[39m\u001b[38;5;124m./us-states.json\u001b[39m\u001b[38;5;124m'\u001b[39m\n",
      "\u001b[1;31mModuleNotFoundError\u001b[0m: No module named 'folium'"
     ]
    }
   ],
   "source": [
    "import folium\n",
    "import pandas as pd\n",
    "\n",
    "state_geo = r'./us-states.json'\n",
    "state_unemployment = r'./US_Unemployment_Oct2012.csv'\n",
    "\n",
    "state_data = pd.read_csv(state_unemployment)\n",
    "\n",
    "#Let Folium determine the scale\n",
    "employ_map = folium.Map(location=[48, -102], zoom_start=3)\n",
    "folium.Choropleth(geo_path=state_geo, data=state_data,\n",
    "             columns=['State', 'Unemployment'],\n",
    "             key_on='feature.id',\n",
    "             fill_color='BuGn', fill_opacity=0.7, line_opacity=0.2,\n",
    "             legend_name='Unemployment Rate (%)', smooth_factor=0.1,highlight=True).add_to(employ_map)\n",
    "folium.LayerControl().add_to(employ_map)\n",
    "\n",
    "employ_map"
   ]
  },
  {
   "cell_type": "markdown",
   "metadata": {},
   "source": [
    "<font size=+3>&#9998;</font> Creates a chloropleth map that shows unemployment rates accross the united states"
   ]
  },
  {
   "cell_type": "markdown",
   "metadata": {},
   "source": [
    "**&#9989; Do This:** Modify the above code so that the state colors range from green to blue.  Done"
   ]
  },
  {
   "cell_type": "markdown",
   "metadata": {},
   "source": [
    "&#9989; **Question 5:** What other colors are avaliable in the folium library? Is there a finite list of possible options?"
   ]
  },
  {
   "cell_type": "markdown",
   "metadata": {},
   "source": [
    "<font size=+3>&#9998;</font> It's a finite list- 'BuGn' (Blue-Green)\n",
    "'BuPu' (Blue-Purple)\n",
    "'GnBu' (Green-Blue)\n",
    "'OrRd' (Orange-Red)\n",
    "'PuBu' (Purple-Blue)\n",
    "'PuBuGn' (Purple-Blue-Green)\n",
    "'PuRd' (Purple-Red)\n",
    "'RdPu' (Red-Purple)\n",
    "'YlGn' (Yellow-Green)\n",
    "'YlGnBu' (Yellow-Green-Blue)\n",
    "'YlOrBr' (Yellow-Orange-Brown)\n",
    "'YlOrRd' (Yellow-Orange-Red)\n",
    "'Spectral'\n",
    "'RdYlBu' (Red-Yellow-Blue)\n",
    "'RdYlGn' (Red-Yellow-Green)\n",
    "'RdGy' (Red-Grey)\n",
    "'PiYG' (Pink-Yellow-Green)\n",
    "'PRGn' (Purple-Red-Green)\n",
    "'BrBG' (Brown-Blue-Green)"
   ]
  },
  {
   "cell_type": "markdown",
   "metadata": {},
   "source": [
    "**&#9989; Do This:** Explore some of the other function arguments that are available in the `choropleth()` and determine how they alter the map visualization. Make note of any argument that you find to be particularly interesting or useful. Or, alternatively, any settings that return a comical or useless version of the map."
   ]
  },
  {
   "cell_type": "markdown",
   "metadata": {},
   "source": [
    "<font size=+3>&#9998;</font> The folium.Choropleth method. They alter the map visualization by impacting the fill color and opacity."
   ]
  },
  {
   "cell_type": "markdown",
   "metadata": {},
   "source": [
    "&#9989; **Question 6:** What controls in binning of values on the \"Unemployment Rate\" bar? Can you set the bins manually? How would you do this? You might want to test it out with a bit of code or consult the folium documentation."
   ]
  },
  {
   "cell_type": "markdown",
   "metadata": {},
   "source": [
    "<font size=+3>&#9998;</font> The threshold_scale perameter controls the binnning values. You can set the bins manually by utilizing the threshold_scale parameter. Yes it is possible using the method above."
   ]
  },
  {
   "cell_type": "markdown",
   "metadata": {},
   "source": [
    "**&#9989; Do This:** Think about some other ways that having a package like folium could be useful. Try to find at least three examples on the web of scientific data being represented on a map. Include links to your examples below and explain what the data is trying to represent."
   ]
  },
  {
   "cell_type": "markdown",
   "metadata": {},
   "source": [
    "<font size=+3>&#9998;</font> Point map- https://www.safegraph.com/guides/visualizing-geospatial-data. One of the most basic methods for visualizing geographic data is a point map. In essence, you mark any point on the map that represents the variable you want to measure.\n",
    "\n",
    "Proportional symbol map- https://www.safegraph.com/guides/visualizing-geospatial-data. This is a point map variation. Data at a certain location is represented by a circle or other form. On the other hand, the point can be used to simultaneously represent several different factors (such the population and/or average age) depending on its size and/or color.\n",
    "\n",
    "Cluster map- https://www.safegraph.com/guides/visualizing-geospatial-data. This is a unique take on a proportionate symbol map. It uses a similar idea of representing various sorts of data at a spot simultaneously by utilizing dots of different sizes and colors. But these bigger points are really placeholders for smaller points, which show up when the map's size is increased. This solves the primary problem of point map congestion, but it calls for specialized geospatial data visualization tools, such GIS software.\n"
   ]
  },
  {
   "cell_type": "markdown",
   "metadata": {},
   "source": [
    "### More than one way to make a map...\n",
    "\n",
    "Folium isn't the only Python package out there that can plot data on a map. Spend some time finding other Python packages that can allow you to work with maps and data in Python. Some of the solutions you find might use modules you're already familiar with, some of them might use new modules. **Explore the options and choose one that you want to try to get working**.\n",
    "\n",
    "**&#9989; Do This:** In the cell below try to get **at least one** example working in your notebook using a package other than folium for plotting data on a map. Feel free to discuss any issues your run into with the rest of your group!"
   ]
  },
  {
   "cell_type": "code",
   "execution_count": 13,
   "metadata": {},
   "outputs": [
    {
     "ename": "ModuleNotFoundError",
     "evalue": "No module named 'geopandas'",
     "output_type": "error",
     "traceback": [
      "\u001b[1;31m---------------------------------------------------------------------------\u001b[0m",
      "\u001b[1;31mModuleNotFoundError\u001b[0m                       Traceback (most recent call last)",
      "Input \u001b[1;32mIn [13]\u001b[0m, in \u001b[0;36m<cell line: 1>\u001b[1;34m()\u001b[0m\n\u001b[1;32m----> 1\u001b[0m \u001b[38;5;28;01mimport\u001b[39;00m \u001b[38;5;21;01mgeopandas\u001b[39;00m \u001b[38;5;28;01mas\u001b[39;00m \u001b[38;5;21;01mgpd\u001b[39;00m\n\u001b[0;32m      2\u001b[0m \u001b[38;5;28;01mimport\u001b[39;00m \u001b[38;5;21;01mmatplotlib\u001b[39;00m\u001b[38;5;21;01m.\u001b[39;00m\u001b[38;5;21;01mpyplot\u001b[39;00m \u001b[38;5;28;01mas\u001b[39;00m \u001b[38;5;21;01mplt\u001b[39;00m\n\u001b[0;32m      5\u001b[0m world \u001b[38;5;241m=\u001b[39m gpd\u001b[38;5;241m.\u001b[39mread_file(gpd\u001b[38;5;241m.\u001b[39mdatasets\u001b[38;5;241m.\u001b[39mget_path(\u001b[38;5;124m'\u001b[39m\u001b[38;5;124mnaturalearth_lowres\u001b[39m\u001b[38;5;124m'\u001b[39m))\n",
      "\u001b[1;31mModuleNotFoundError\u001b[0m: No module named 'geopandas'"
     ]
    }
   ],
   "source": [
    "import geopandas as gpd\n",
    "import matplotlib.pyplot as plt\n",
    "\n",
    "\n",
    "world = gpd.read_file(gpd.datasets.get_path('naturalearth_lowres'))\n",
    "world.plot()\n",
    "plt.title('World Map')\n",
    "plt.show()\n"
   ]
  },
  {
   "cell_type": "markdown",
   "metadata": {},
   "source": [
    "----\n",
    "<a id=\"generative\"></a>\n",
    "## 5. Experimenting with generative AI\n",
    "\n",
    "In this part of the assignment we're going to explore a bit of generative AI. Specifically, we're going to try experimenting with a large language model (LLM). LLMs are a type of neural network that can be trained to predict the next word in a sequence of words. They are trained on large amounts of text data and can be used to generate new text that is similar to the text that they were trained on.\n",
    "\n",
    "For this part of the assignment, you are encouraged to try using [ChatGPT](https://chat.openai.com/), which created and maintained by [OpenAI](https://openai.com/). This is the LLM that made big news last year.\n",
    "\n",
    "**Note**: You will need to sign up to use ChatGPT. If you do not already have an account, you should create one now. Feel free to use whatever email address you are comfortable using. \n",
    "\n",
    "**Another note**: If you're already played around with ChatGPT and you want to try a different tool, or if ChatGPT is not working, you can also experiment with Claude, which is a similar tool that was created by former OpenAI employees. You can find Claude here: https://claude.ai/\n",
    "\n",
    "**&#9989; Do This:** Now that you've logged into either ChatGPT, Claude, or any other similar service that you're comfortable with, try to get it to generate some text. You can use one of the \"prompts\" that is provided or you can try to write your own. If you're having trouble getting it to work, try to find some examples on the web of people using the tool and see if you can figure out what they're doing differently.\n",
    "\n",
    "**What is your experience with using the tool?** Does it produce results you expect? Does it seem to work better with some prompts than others? What are some of the limitations of the tool? What are some of the benefits?\n"
   ]
  },
  {
   "cell_type": "markdown",
   "metadata": {},
   "source": [
    "<font size=+3>&#9998;</font> Yes, it does seem to work with some prompts better than others. Limitations include answering certain sophisticated math problems. Main benefit is it can do easy simple computations extremely fast."
   ]
  },
  {
   "cell_type": "markdown",
   "metadata": {},
   "source": [
    "**&#9989; Do This:** Now that you've experimented with just generating some text, let's try using it to assist us with our coding endeavors. \n",
    "\n",
    "Go back to Part 4 of this assignment, copy some of the provided code or some of the code that you wrote and ask ChatGPT what the code does. **How does it do with this task?** What are some of the limitations? What are some of the benefits?"
   ]
  },
  {
   "cell_type": "markdown",
   "metadata": {},
   "source": [
    "<font size=+3>&#9998;</font> Doesn't do it right to the degree needed. Needs access to file contents, but other than that works perfectly fine. "
   ]
  },
  {
   "cell_type": "markdown",
   "metadata": {},
   "source": [
    "**&#9989; Do This:** Now that you've experimented with using this tool to assist you with understanding some code, see if you can accomplish the task posted at the end of Part 4 -- **can you get the tool to help you write functional code that plots data on a map using one of the Python packages you found and explored?**\n",
    "\n",
    "Try using the code provided by the tool as a starting point and see if you can get it to work right here in your notebook (in the cell below). If you run into issues, try to figure out what's going wrong. You may need to experiment with the prompts you're using or try to direct the tool further by giving it follow-up prompts. If you're still stuck, ask your group mates or the instructors for help. \n",
    "\n",
    "<font color=\"red\">**Important note**</font>: Don't forget to include comments in your code or in a markdown cell citing that you used ChatGPT (or another tool) to help you write the code. **You should also make sure to include the prompt you used to get to your final code.**"
   ]
  },
  {
   "cell_type": "code",
   "execution_count": 14,
   "metadata": {},
   "outputs": [
    {
     "ename": "ModuleNotFoundError",
     "evalue": "No module named 'geopandas'",
     "output_type": "error",
     "traceback": [
      "\u001b[1;31m---------------------------------------------------------------------------\u001b[0m",
      "\u001b[1;31mModuleNotFoundError\u001b[0m                       Traceback (most recent call last)",
      "Input \u001b[1;32mIn [14]\u001b[0m, in \u001b[0;36m<cell line: 4>\u001b[1;34m()\u001b[0m\n\u001b[0;32m      1\u001b[0m \u001b[38;5;66;03m# Put your AI-assisted mapping code here\u001b[39;00m\n\u001b[0;32m      2\u001b[0m \u001b[38;5;66;03m# Make sure to cite the tool you use and the key prompt you used to get to things working\u001b[39;00m\n\u001b[0;32m      3\u001b[0m \u001b[38;5;66;03m# Chatgpt generated response, prompt- Do This: In the cell below try to get at least one example working in your notebook using a package other than folium for plotting data on a map. Feel free to discuss any issues your run into with the rest of your group!\u001b[39;00m\n\u001b[1;32m----> 4\u001b[0m \u001b[38;5;28;01mimport\u001b[39;00m \u001b[38;5;21;01mgeopandas\u001b[39;00m \u001b[38;5;28;01mas\u001b[39;00m \u001b[38;5;21;01mgpd\u001b[39;00m\n\u001b[0;32m      5\u001b[0m \u001b[38;5;28;01mimport\u001b[39;00m \u001b[38;5;21;01mmatplotlib\u001b[39;00m\u001b[38;5;21;01m.\u001b[39;00m\u001b[38;5;21;01mpyplot\u001b[39;00m \u001b[38;5;28;01mas\u001b[39;00m \u001b[38;5;21;01mplt\u001b[39;00m\n\u001b[0;32m      7\u001b[0m \u001b[38;5;66;03m# Load a built-in dataset from Geopandas\u001b[39;00m\n",
      "\u001b[1;31mModuleNotFoundError\u001b[0m: No module named 'geopandas'"
     ]
    }
   ],
   "source": [
    "# Put your AI-assisted mapping code here\n",
    "# Make sure to cite the tool you use and the key prompt you used to get to things working\n",
    "# Chatgpt generated response, prompt- Do This: In the cell below try to get at least one example working in your notebook using a package other than folium for plotting data on a map. Feel free to discuss any issues your run into with the rest of your group!\n",
    "import geopandas as gpd\n",
    "import matplotlib.pyplot as plt\n",
    "\n",
    "# Load a built-in dataset from Geopandas\n",
    "world = gpd.read_file(gpd.datasets.get_path('naturalearth_lowres'))\n",
    "\n",
    "# Plot the world map using Geopandas\n",
    "world.plot()\n",
    "\n",
    "# Add a title to the plot\n",
    "plt.title('World Map')\n",
    "\n",
    "# Show the plot\n",
    "plt.show()\n"
   ]
  },
  {
   "cell_type": "markdown",
   "metadata": {},
   "source": [
    "----"
   ]
  },
  {
   "cell_type": "markdown",
   "metadata": {},
   "source": [
    "-----\n",
    "### Congratulations, we're done!\n",
    "\n",
    "Now, you just need to submit this assignment by uploading it to the course <a href=\"https://d2l.msu.edu/\">Desire2Learn</a> web page for today's dropbox (Don't forget to add your name in the first cell)."
   ]
  },
  {
   "cell_type": "markdown",
   "metadata": {},
   "source": [
    "&#169; Copyright 2023,  Department of Computational Mathematics, Science and Engineering at Michigan State University"
   ]
  }
 ],
 "metadata": {
  "anaconda-cloud": {},
  "kernelspec": {
   "display_name": "Python 3.11 (default)",
   "language": "python",
   "name": "python3"
  },
  "language_info": {
   "codemirror_mode": {
    "name": "ipython",
    "version": 3
   },
   "file_extension": ".py",
   "mimetype": "text/x-python",
   "name": "python",
   "nbconvert_exporter": "python",
   "pygments_lexer": "ipython3",
   "version": "3.11.6"
  },
  "widgets": {
   "application/vnd.jupyter.widget-state+json": {
    "state": {},
    "version_major": 2,
    "version_minor": 0
   }
  }
 },
 "nbformat": 4,
 "nbformat_minor": 4
}
